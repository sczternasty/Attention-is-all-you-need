{
 "cells": [
  {
   "cell_type": "code",
   "metadata": {
    "collapsed": true,
    "ExecuteTime": {
     "end_time": "2025-05-26T14:50:16.375949Z",
     "start_time": "2025-05-26T14:50:09.178069Z"
    }
   },
   "source": [
    "import torch\n",
    "import torch.nn as nn\n",
    "from sklearn import datasets\n",
    "import torchvision.datasets as datasets\n",
    "import torchvision.transforms as transforms\n",
    "from torch.utils.data import DataLoader\n",
    "import math\n",
    "import torch.nn.functional as F\n",
    "import random\n",
    "from torch.optim.lr_scheduler import LambdaLR"
   ],
   "outputs": [],
   "execution_count": 1
  },
  {
   "cell_type": "code",
   "source": [
    "transform = transforms.ToTensor()\n",
    "\n",
    "train_dataset = datasets.CIFAR10(root='./data', train=True, download=True, transform=transform)\n",
    "test_dataset = datasets.CIFAR10(root='./data', train=False, download=True, transform=transform)\n",
    "\n",
    "print(len(train_dataset))\n"
   ],
   "metadata": {
    "collapsed": false,
    "ExecuteTime": {
     "end_time": "2025-05-26T14:50:17.837495Z",
     "start_time": "2025-05-26T14:50:16.379496Z"
    }
   },
   "outputs": [
    {
     "name": "stdout",
     "output_type": "stream",
     "text": [
      "50000\n"
     ]
    }
   ],
   "execution_count": 2
  },
  {
   "cell_type": "markdown",
   "source": [],
   "metadata": {
    "collapsed": false
   }
  },
  {
   "cell_type": "code",
   "source": [
    "train_loader = DataLoader(train_dataset, batch_size=64, shuffle=True)\n",
    "test_loader  = DataLoader(test_dataset, batch_size=64)"
   ],
   "metadata": {
    "collapsed": false,
    "ExecuteTime": {
     "end_time": "2025-05-26T14:50:18.041826Z",
     "start_time": "2025-05-26T14:50:18.038744Z"
    }
   },
   "outputs": [],
   "execution_count": 3
  },
  {
   "metadata": {
    "ExecuteTime": {
     "end_time": "2025-05-26T14:50:18.066215Z",
     "start_time": "2025-05-26T14:50:18.061661Z"
    }
   },
   "cell_type": "code",
   "source": [
    "def remove_random_patches(images, patch_size=8):\n",
    "    B, C, H, W = images.size()\n",
    "    images = images.clone()\n",
    "    targets = images.clone()\n",
    "    for i in range(B):\n",
    "        x = random.randint(0, H - patch_size)\n",
    "        y = random.randint(0, W - patch_size)\n",
    "\n",
    "        images[i, :, x:x+patch_size, y:y+patch_size] = 0.0\n",
    "\n",
    "    return images, targets"
   ],
   "outputs": [],
   "execution_count": 5
  },
  {
   "metadata": {
    "ExecuteTime": {
     "end_time": "2025-05-26T14:50:18.644705Z",
     "start_time": "2025-05-26T14:50:18.073934Z"
    }
   },
   "cell_type": "code",
   "source": [
    "# remove patch and display\n",
    "import matplotlib.pyplot as plt\n",
    "def show_image(image):\n",
    "    image = image.squeeze().numpy()\n",
    "    plt.imshow(image)\n",
    "    plt.axis('off')\n",
    "    plt.show()"
   ],
   "outputs": [],
   "execution_count": 6
  },
  {
   "metadata": {
    "ExecuteTime": {
     "end_time": "2025-05-26T14:58:37.125969Z",
     "start_time": "2025-05-26T14:58:37.106370Z"
    }
   },
   "cell_type": "code",
   "source": [
    "class SelfAttention(nn.Module):\n",
    "    def __init__(self, emb_size=256, heads=4, dropout=0.1):\n",
    "\n",
    "        super().__init__()\n",
    "        self.emb_size, self.heads = emb_size, heads\n",
    "        self.key = nn.Linear(emb_size, emb_size, bias=False)\n",
    "        self.query = nn.Linear(emb_size, emb_size, bias=False)\n",
    "        self.value = nn.Linear(emb_size, emb_size, bias=False)\n",
    "        self.unify_heads = nn.Linear(emb_size, emb_size)\n",
    "        self.dropout = nn.Dropout(dropout)\n",
    "\n",
    "    def forward(self, x):\n",
    "\n",
    "        B, T, C = x.size()\n",
    "        H = self.heads\n",
    "\n",
    "        q = self.query(x)\n",
    "        k = self.key(x)\n",
    "        v = self.value(x)\n",
    "\n",
    "        S = C // H\n",
    "\n",
    "        k = k.view(B, T, H, S)\n",
    "        q = q.view(B, T, H, S)\n",
    "        v = v.view(B, T, H, S)\n",
    "\n",
    "        k = k.transpose(1, 2).contiguous().view(B * H, T, S)\n",
    "        q = q.transpose(1, 2).contiguous().view(B * H, T, S)\n",
    "        v = v.transpose(1, 2).contiguous().view(B * H, T, S)\n",
    "\n",
    "        dot = torch.bmm(q, k.transpose(1, 2)) # B * H, T, S) @ (B * H, S, T) -> (B * H, T, T)\n",
    "\n",
    "        dot = dot / math.sqrt(S)\n",
    "\n",
    "        # mask = torch.triu(torch.ones(T, T, device=x.device), diagonal=1)\n",
    "        # dot = dot.masked_fill(mask == 1, float('-inf'))\n",
    "\n",
    "        dot = F.softmax(dot, dim=2)\n",
    "\n",
    "        dot = self.dropout(dot)\n",
    "        out = torch.bmm(dot, v).view(B, H, T, S)\n",
    "\n",
    "        out = out.transpose(1, 2).contiguous().view(B, T, S * H) # (B, H, T, S) -> (B, T, S * H) -> (B, T, C)\n",
    "\n",
    "        out = self.unify_heads(out)\n",
    "\n",
    "        return out\n",
    "\n",
    "class TransformerBlock(nn.Module):\n",
    "  def __init__(self, emb_size, heads, dropout=0.1):\n",
    "    super().__init__()\n",
    "\n",
    "    self.attention = SelfAttention(emb_size, heads)\n",
    "    self.norm1 = nn.LayerNorm(emb_size)\n",
    "    self.norm2 = nn.LayerNorm(emb_size)\n",
    "\n",
    "    self.ff = nn.Sequential(\n",
    "      nn.Linear(emb_size, 4 * emb_size),\n",
    "      nn.ReLU(),\n",
    "      nn.Linear(4 * emb_size, emb_size),\n",
    "      nn.Dropout(dropout))\n",
    "\n",
    "  def forward(self, x):\n",
    "    x = x + self.attention(self.norm1(x))\n",
    "    x = x + self.ff(self.norm2(x))\n",
    "    return x\n",
    "\n",
    "class Transformer(nn.Module):\n",
    "    def __init__(self, img_size=28, patch_size=7, in_channels=1, emb_size=64, heads=4, num_layers=6, dropout=0.1):\n",
    "        super().__init__()\n",
    "        assert emb_size % heads == 0\n",
    "        self.emb_size = emb_size\n",
    "        self.patch_size = patch_size\n",
    "        self.heads = heads\n",
    "        grid_size = img_size // patch_size  # 4\n",
    "\n",
    "        # Embeddings\n",
    "        self.num_patches = (img_size // patch_size) ** 2\n",
    "        self.proj = nn.Conv2d(in_channels, emb_size, kernel_size=patch_size, stride=patch_size)\n",
    "        pos_x = torch.arange(grid_size).repeat(grid_size, 1)      # shape: (4, 4)\n",
    "        pos_y = torch.arange(grid_size).view(grid_size, 1).repeat(1, grid_size)  # shape: (4, 4)\n",
    "        coords = torch.stack([pos_x, pos_y], dim=-1).float()  # shape: (4, 4, 2)\n",
    "        coords = coords.view(-1, 2)  # shape: (16, 2)\n",
    "        self.coords = coords / (grid_size - 1)  # normalize to [0, 1]\n",
    "        self.coord_embed = nn.Linear(2, emb_size)  # emb_size matches patch embedding size\n",
    "\n",
    "        self.initial_dense = nn.Linear(2 * emb_size * 16, 8 * 8 * 64)\n",
    "        self.initial_bn = nn.BatchNorm2d(64)\n",
    "        self.initial_relu = nn.ReLU(inplace=True)\n",
    "\n",
    "\n",
    "        self.emb_dropout = nn.Dropout(dropout)\n",
    "        self.pos_dropout = nn.Dropout(dropout)\n",
    "        self.final_dropout = nn.Dropout(dropout)\n",
    "\n",
    "        self.transformer_blocks = nn.ModuleList(\n",
    "            [TransformerBlock(emb_size, heads, dropout=dropout) for _ in range(num_layers)]\n",
    "        )\n",
    "\n",
    "        self.reconstruct= nn.ConvTranspose2d(emb_size, in_channels, kernel_size=patch_size, stride=patch_size)\n",
    "        self.decoder = nn.Sequential(\n",
    "            nn.ConvTranspose2d(emb_size, emb_size // 2, kernel_size=patch_size, stride=patch_size),\n",
    "            nn.ReLU(),\n",
    "            nn.Conv2d(emb_size // 2, emb_size // 4, kernel_size=3, padding=1),\n",
    "            nn.ReLU(),\n",
    "            nn.Conv2d(emb_size // 4, in_channels, kernel_size=3, padding=1),\n",
    "            nn.Sigmoid()\n",
    "        )\n",
    "\n",
    "\n",
    "\n",
    "\n",
    "    def forward(self, x):\n",
    "        B, C, H, W = x.size()\n",
    "        x = self.proj(x)\n",
    "        sc = x\n",
    "        x = x.flatten(2)\n",
    "        x = x.transpose(1, 2)\n",
    "        x = self.emb_dropout(x)\n",
    "\n",
    "        pos = self.coord_embed(self.coords.to(x.device))  # (N, emb_size)\n",
    "        x = x + pos\n",
    "\n",
    "        for transformer in self.transformer_blocks:\n",
    "            x = transformer(x)\n",
    "        B, N, E = x.shape\n",
    "        x = x.transpose(1, 2).view(B, self.emb_size, H//self.patch_size, W//self.patch_size)\n",
    "        x = torch.cat((x, sc), dim=1)\n",
    "        print(x.shape)\n",
    "        x = self.initial_dense(x.view(B, -1)).view(B, 64, 8, 8)\n",
    "        x = self.initial_bn(x)\n",
    "        x = self.initial_relu(x)\n",
    "        x = self.final_dropout(x)\n",
    "        x = self.decoder(x)\n",
    "        #x = self.reconstruct(x)\n",
    "        #x = F.sigmoid(x)\n",
    "\n",
    "        return x"
   ],
   "outputs": [],
   "execution_count": 19
  },
  {
   "metadata": {
    "ExecuteTime": {
     "end_time": "2025-05-26T14:50:18.689282Z",
     "start_time": "2025-05-26T14:50:18.685307Z"
    }
   },
   "cell_type": "code",
   "source": [
    "def get_lr_schedule(optimizer, warmup_steps):\n",
    "    def lr_lambda(step):\n",
    "        if step < warmup_steps:\n",
    "            return float(step) / float(max(1, warmup_steps))\n",
    "        return 1.0 / math.sqrt(step)\n",
    "\n",
    "    return LambdaLR(optimizer, lr_lambda)"
   ],
   "outputs": [],
   "execution_count": 9
  },
  {
   "metadata": {
    "collapsed": false,
    "ExecuteTime": {
     "end_time": "2025-05-26T14:58:39.106307Z",
     "start_time": "2025-05-26T14:58:38.755954Z"
    }
   },
   "cell_type": "code",
   "source": [
    "model = Transformer(img_size=32, patch_size=8, in_channels=3, emb_size=256, heads=8, num_layers=6, dropout=0.1)\n",
    "model = model.to('cuda')\n",
    "criterion = nn.MSELoss()\n",
    "optimizer = torch.optim.Adam(model.parameters(), lr=0.0001)\n",
    "#scheduler = get_lr_schedule(optimizer, 20)"
   ],
   "outputs": [],
   "execution_count": 20
  },
  {
   "metadata": {
    "ExecuteTime": {
     "end_time": "2025-05-26T14:58:40.830368Z",
     "start_time": "2025-05-26T14:58:40.364899Z"
    }
   },
   "cell_type": "code",
   "source": [
    "for epoch in range(100):  # Keep it small for testing\n",
    "    model.train()\n",
    "    total_loss = 0\n",
    "    for imgs, _ in train_loader:\n",
    "        X, y = remove_random_patches(imgs)  # Get images and mask\n",
    "        X, y = X.to('cuda'), y.to('cuda')\n",
    "        logits = model(X)  # Reconstructed images\n",
    "        loss = criterion(logits, y)\n",
    "\n",
    "        optimizer.zero_grad()\n",
    "        loss.backward()\n",
    "        #torch.nn.utils.clip_grad_norm_(model.parameters(), max_norm=1.0)\n",
    "        optimizer.step()\n",
    "        #scheduler.step()\n",
    "\n",
    "        total_loss += loss.item()\n",
    "        #if loss < 0.0005:\n",
    "            #break\n",
    "\n",
    "    print(f\"Epoch {epoch+1}, Loss: {total_loss / len(train_loader):.4f}\")\n",
    "    # print(\"Train accuracy:\", accuracy(logits, labels))"
   ],
   "outputs": [
    {
     "name": "stdout",
     "output_type": "stream",
     "text": [
      "torch.Size([64, 512, 4, 4])\n"
     ]
    },
    {
     "ename": "RuntimeError",
     "evalue": "mat1 and mat2 shapes cannot be multiplied (32768x16 and 8192x4096)",
     "output_type": "error",
     "traceback": [
      "\u001B[31m---------------------------------------------------------------------------\u001B[39m",
      "\u001B[31mRuntimeError\u001B[39m                              Traceback (most recent call last)",
      "\u001B[36mCell\u001B[39m\u001B[36m \u001B[39m\u001B[32mIn[21]\u001B[39m\u001B[32m, line 7\u001B[39m\n\u001B[32m      5\u001B[39m X, y = remove_random_patches(imgs)  \u001B[38;5;66;03m# Get images and mask\u001B[39;00m\n\u001B[32m      6\u001B[39m X, y = X.to(\u001B[33m'\u001B[39m\u001B[33mcuda\u001B[39m\u001B[33m'\u001B[39m), y.to(\u001B[33m'\u001B[39m\u001B[33mcuda\u001B[39m\u001B[33m'\u001B[39m)\n\u001B[32m----> \u001B[39m\u001B[32m7\u001B[39m logits = \u001B[43mmodel\u001B[49m\u001B[43m(\u001B[49m\u001B[43mX\u001B[49m\u001B[43m)\u001B[49m  \u001B[38;5;66;03m# Reconstructed images\u001B[39;00m\n\u001B[32m      8\u001B[39m loss = criterion(logits, y)\n\u001B[32m     10\u001B[39m optimizer.zero_grad()\n",
      "\u001B[36mFile \u001B[39m\u001B[32m~\\anaconda3\\envs\\pytorch\\Lib\\site-packages\\torch\\nn\\modules\\module.py:1739\u001B[39m, in \u001B[36mModule._wrapped_call_impl\u001B[39m\u001B[34m(self, *args, **kwargs)\u001B[39m\n\u001B[32m   1737\u001B[39m     \u001B[38;5;28;01mreturn\u001B[39;00m \u001B[38;5;28mself\u001B[39m._compiled_call_impl(*args, **kwargs)  \u001B[38;5;66;03m# type: ignore[misc]\u001B[39;00m\n\u001B[32m   1738\u001B[39m \u001B[38;5;28;01melse\u001B[39;00m:\n\u001B[32m-> \u001B[39m\u001B[32m1739\u001B[39m     \u001B[38;5;28;01mreturn\u001B[39;00m \u001B[38;5;28;43mself\u001B[39;49m\u001B[43m.\u001B[49m\u001B[43m_call_impl\u001B[49m\u001B[43m(\u001B[49m\u001B[43m*\u001B[49m\u001B[43margs\u001B[49m\u001B[43m,\u001B[49m\u001B[43m \u001B[49m\u001B[43m*\u001B[49m\u001B[43m*\u001B[49m\u001B[43mkwargs\u001B[49m\u001B[43m)\u001B[49m\n",
      "\u001B[36mFile \u001B[39m\u001B[32m~\\anaconda3\\envs\\pytorch\\Lib\\site-packages\\torch\\nn\\modules\\module.py:1750\u001B[39m, in \u001B[36mModule._call_impl\u001B[39m\u001B[34m(self, *args, **kwargs)\u001B[39m\n\u001B[32m   1745\u001B[39m \u001B[38;5;66;03m# If we don't have any hooks, we want to skip the rest of the logic in\u001B[39;00m\n\u001B[32m   1746\u001B[39m \u001B[38;5;66;03m# this function, and just call forward.\u001B[39;00m\n\u001B[32m   1747\u001B[39m \u001B[38;5;28;01mif\u001B[39;00m \u001B[38;5;129;01mnot\u001B[39;00m (\u001B[38;5;28mself\u001B[39m._backward_hooks \u001B[38;5;129;01mor\u001B[39;00m \u001B[38;5;28mself\u001B[39m._backward_pre_hooks \u001B[38;5;129;01mor\u001B[39;00m \u001B[38;5;28mself\u001B[39m._forward_hooks \u001B[38;5;129;01mor\u001B[39;00m \u001B[38;5;28mself\u001B[39m._forward_pre_hooks\n\u001B[32m   1748\u001B[39m         \u001B[38;5;129;01mor\u001B[39;00m _global_backward_pre_hooks \u001B[38;5;129;01mor\u001B[39;00m _global_backward_hooks\n\u001B[32m   1749\u001B[39m         \u001B[38;5;129;01mor\u001B[39;00m _global_forward_hooks \u001B[38;5;129;01mor\u001B[39;00m _global_forward_pre_hooks):\n\u001B[32m-> \u001B[39m\u001B[32m1750\u001B[39m     \u001B[38;5;28;01mreturn\u001B[39;00m \u001B[43mforward_call\u001B[49m\u001B[43m(\u001B[49m\u001B[43m*\u001B[49m\u001B[43margs\u001B[49m\u001B[43m,\u001B[49m\u001B[43m \u001B[49m\u001B[43m*\u001B[49m\u001B[43m*\u001B[49m\u001B[43mkwargs\u001B[49m\u001B[43m)\u001B[49m\n\u001B[32m   1752\u001B[39m result = \u001B[38;5;28;01mNone\u001B[39;00m\n\u001B[32m   1753\u001B[39m called_always_called_hooks = \u001B[38;5;28mset\u001B[39m()\n",
      "\u001B[36mCell\u001B[39m\u001B[36m \u001B[39m\u001B[32mIn[19]\u001B[39m\u001B[32m, line 130\u001B[39m, in \u001B[36mTransformer.forward\u001B[39m\u001B[34m(self, x)\u001B[39m\n\u001B[32m    128\u001B[39m x = torch.cat((x, sc), dim=\u001B[32m1\u001B[39m)\n\u001B[32m    129\u001B[39m \u001B[38;5;28mprint\u001B[39m(x.shape)\n\u001B[32m--> \u001B[39m\u001B[32m130\u001B[39m x = \u001B[38;5;28;43mself\u001B[39;49m\u001B[43m.\u001B[49m\u001B[43minitial_dense\u001B[49m\u001B[43m(\u001B[49m\u001B[43mx\u001B[49m\u001B[43m.\u001B[49m\u001B[43mflatten\u001B[49m\u001B[43m(\u001B[49m\u001B[32;43m2\u001B[39;49m\u001B[43m)\u001B[49m\u001B[43m)\u001B[49m.view(B, \u001B[32m64\u001B[39m, \u001B[32m8\u001B[39m, \u001B[32m8\u001B[39m)\n\u001B[32m    131\u001B[39m x = \u001B[38;5;28mself\u001B[39m.initial_bn(x)\n\u001B[32m    132\u001B[39m x = \u001B[38;5;28mself\u001B[39m.initial_relu(x)\n",
      "\u001B[36mFile \u001B[39m\u001B[32m~\\anaconda3\\envs\\pytorch\\Lib\\site-packages\\torch\\nn\\modules\\module.py:1739\u001B[39m, in \u001B[36mModule._wrapped_call_impl\u001B[39m\u001B[34m(self, *args, **kwargs)\u001B[39m\n\u001B[32m   1737\u001B[39m     \u001B[38;5;28;01mreturn\u001B[39;00m \u001B[38;5;28mself\u001B[39m._compiled_call_impl(*args, **kwargs)  \u001B[38;5;66;03m# type: ignore[misc]\u001B[39;00m\n\u001B[32m   1738\u001B[39m \u001B[38;5;28;01melse\u001B[39;00m:\n\u001B[32m-> \u001B[39m\u001B[32m1739\u001B[39m     \u001B[38;5;28;01mreturn\u001B[39;00m \u001B[38;5;28;43mself\u001B[39;49m\u001B[43m.\u001B[49m\u001B[43m_call_impl\u001B[49m\u001B[43m(\u001B[49m\u001B[43m*\u001B[49m\u001B[43margs\u001B[49m\u001B[43m,\u001B[49m\u001B[43m \u001B[49m\u001B[43m*\u001B[49m\u001B[43m*\u001B[49m\u001B[43mkwargs\u001B[49m\u001B[43m)\u001B[49m\n",
      "\u001B[36mFile \u001B[39m\u001B[32m~\\anaconda3\\envs\\pytorch\\Lib\\site-packages\\torch\\nn\\modules\\module.py:1750\u001B[39m, in \u001B[36mModule._call_impl\u001B[39m\u001B[34m(self, *args, **kwargs)\u001B[39m\n\u001B[32m   1745\u001B[39m \u001B[38;5;66;03m# If we don't have any hooks, we want to skip the rest of the logic in\u001B[39;00m\n\u001B[32m   1746\u001B[39m \u001B[38;5;66;03m# this function, and just call forward.\u001B[39;00m\n\u001B[32m   1747\u001B[39m \u001B[38;5;28;01mif\u001B[39;00m \u001B[38;5;129;01mnot\u001B[39;00m (\u001B[38;5;28mself\u001B[39m._backward_hooks \u001B[38;5;129;01mor\u001B[39;00m \u001B[38;5;28mself\u001B[39m._backward_pre_hooks \u001B[38;5;129;01mor\u001B[39;00m \u001B[38;5;28mself\u001B[39m._forward_hooks \u001B[38;5;129;01mor\u001B[39;00m \u001B[38;5;28mself\u001B[39m._forward_pre_hooks\n\u001B[32m   1748\u001B[39m         \u001B[38;5;129;01mor\u001B[39;00m _global_backward_pre_hooks \u001B[38;5;129;01mor\u001B[39;00m _global_backward_hooks\n\u001B[32m   1749\u001B[39m         \u001B[38;5;129;01mor\u001B[39;00m _global_forward_hooks \u001B[38;5;129;01mor\u001B[39;00m _global_forward_pre_hooks):\n\u001B[32m-> \u001B[39m\u001B[32m1750\u001B[39m     \u001B[38;5;28;01mreturn\u001B[39;00m \u001B[43mforward_call\u001B[49m\u001B[43m(\u001B[49m\u001B[43m*\u001B[49m\u001B[43margs\u001B[49m\u001B[43m,\u001B[49m\u001B[43m \u001B[49m\u001B[43m*\u001B[49m\u001B[43m*\u001B[49m\u001B[43mkwargs\u001B[49m\u001B[43m)\u001B[49m\n\u001B[32m   1752\u001B[39m result = \u001B[38;5;28;01mNone\u001B[39;00m\n\u001B[32m   1753\u001B[39m called_always_called_hooks = \u001B[38;5;28mset\u001B[39m()\n",
      "\u001B[36mFile \u001B[39m\u001B[32m~\\anaconda3\\envs\\pytorch\\Lib\\site-packages\\torch\\nn\\modules\\linear.py:125\u001B[39m, in \u001B[36mLinear.forward\u001B[39m\u001B[34m(self, input)\u001B[39m\n\u001B[32m    124\u001B[39m \u001B[38;5;28;01mdef\u001B[39;00m\u001B[38;5;250m \u001B[39m\u001B[34mforward\u001B[39m(\u001B[38;5;28mself\u001B[39m, \u001B[38;5;28minput\u001B[39m: Tensor) -> Tensor:\n\u001B[32m--> \u001B[39m\u001B[32m125\u001B[39m     \u001B[38;5;28;01mreturn\u001B[39;00m \u001B[43mF\u001B[49m\u001B[43m.\u001B[49m\u001B[43mlinear\u001B[49m\u001B[43m(\u001B[49m\u001B[38;5;28;43minput\u001B[39;49m\u001B[43m,\u001B[49m\u001B[43m \u001B[49m\u001B[38;5;28;43mself\u001B[39;49m\u001B[43m.\u001B[49m\u001B[43mweight\u001B[49m\u001B[43m,\u001B[49m\u001B[43m \u001B[49m\u001B[38;5;28;43mself\u001B[39;49m\u001B[43m.\u001B[49m\u001B[43mbias\u001B[49m\u001B[43m)\u001B[49m\n",
      "\u001B[31mRuntimeError\u001B[39m: mat1 and mat2 shapes cannot be multiplied (32768x16 and 8192x4096)"
     ]
    }
   ],
   "execution_count": 21
  },
  {
   "metadata": {
    "ExecuteTime": {
     "end_time": "2025-05-26T14:54:50.032493Z",
     "start_time": "2025-05-26T14:54:49.623245Z"
    }
   },
   "cell_type": "code",
   "source": [
    "for imgs, labels in train_loader:\n",
    "    X,y = remove_random_patches(imgs)\n",
    "    break\n",
    "\n",
    "for i in range(5):\n",
    "    print('Image:', i)\n",
    "    #show_image(imgs[i] + target[i])\n",
    "    show_image(X[i].permute(1, 2, 0))\n",
    "    #show_image(target[i])\n",
    "    output = model(X[i].unsqueeze(0).to('cuda'))\n",
    "    show_image(output[0].permute(1, 2, 0).detach().cpu())\n",
    "\n"
   ],
   "outputs": [
    {
     "name": "stdout",
     "output_type": "stream",
     "text": [
      "Image: 0\n"
     ]
    },
    {
     "data": {
      "text/plain": [
       "<Figure size 640x480 with 1 Axes>"
      ],
      "image/png": "[encoded data removed]"
     },
     "metadata": {},
     "output_type": "display_data"
    },
    {
     "data": {
      "text/plain": [
       "<Figure size 640x480 with 1 Axes>"
      ],
      "image/png": "[encoded data removed]"
     },
     "metadata": {},
     "output_type": "display_data"
    },
    {
     "name": "stdout",
     "output_type": "stream",
     "text": [
      "Image: 1\n"
     ]
    },
    {
     "data": {
      "text/plain": [
       "<Figure size 640x480 with 1 Axes>"
      ],
      "image/png": "[encoded data removed]"
     },
     "metadata": {},
     "output_type": "display_data"
    },
    {
     "data": {
      "text/plain": [
       "<Figure size 640x480 with 1 Axes>"
      ],
      "image/png": "[encoded data removed]"
     },
     "metadata": {},
     "output_type": "display_data"
    },
    {
     "name": "stdout",
     "output_type": "stream",
     "text": [
      "Image: 2\n"
     ]
    },
    {
     "data": {
      "text/plain": [
       "<Figure size 640x480 with 1 Axes>"
      ],
      "image/png": "[encoded data removed]"
     },
     "metadata": {},
     "output_type": "display_data"
    },
    {
     "data": {
      "text/plain": [
       "<Figure size 640x480 with 1 Axes>"
      ],
      "image/png": "[encoded data removed]"
     },
     "metadata": {},
     "output_type": "display_data"
    },
    {
     "name": "stdout",
     "output_type": "stream",
     "text": [
      "Image: 3\n"
     ]
    },
    {
     "data": {
      "text/plain": [
       "<Figure size 640x480 with 1 Axes>"
      ],
      "image/png": "[encoded data removed]"
     },
     "metadata": {},
     "output_type": "display_data"
    },
    {
     "data": {
      "text/plain": [
       "<Figure size 640x480 with 1 Axes>"
      ],
      "image/png": "[encoded data removed]"
     },
     "metadata": {},
     "output_type": "display_data"
    },
    {
     "name": "stdout",
     "output_type": "stream",
     "text": [
      "Image: 4\n"
     ]
    },
    {
     "data": {
      "text/plain": [
       "<Figure size 640x480 with 1 Axes>"
      ],
      "image/png": "[encoded data removed]"
     },
     "metadata": {},
     "output_type": "display_data"
    },
    {
     "data": {
      "text/plain": [
       "<Figure size 640x480 with 1 Axes>"
      ],
      "image/png": "[encoded data removed]"
     },
     "metadata": {},
     "output_type": "display_data"
    }
   ],
   "execution_count": 12
  }
 ],
 "metadata": {
  "kernelspec": {
   "display_name": "Python 3",
   "language": "python",
   "name": "python3"
  },
  "language_info": {
   "codemirror_mode": {
    "name": "ipython",
    "version": 2
   },
   "file_extension": ".py",
   "mimetype": "text/x-python",
   "name": "python",
   "nbconvert_exporter": "python",
   "pygments_lexer": "ipython2",
   "version": "2.7.6"
  }
 },
 "nbformat": 4,
 "nbformat_minor": 0
}
