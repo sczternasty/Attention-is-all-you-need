{
 "cells": [
  {
   "cell_type": "code",
   "metadata": {
    "collapsed": true,
    "ExecuteTime": {
     "end_time": "2025-05-21T07:09:20.766566Z",
     "start_time": "2025-05-21T07:09:15.796770Z"
    }
   },
   "source": [
    "import torch\n",
    "import torch.nn as nn\n",
    "from sklearn import datasets\n",
    "import torchvision.datasets as datasets\n",
    "import torchvision.transforms as transforms\n",
    "from torch.utils.data import DataLoader\n",
    "import math\n",
    "import torch.nn.functional as F\n",
    "import random"
   ],
   "outputs": [],
   "execution_count": 1
  },
  {
   "cell_type": "code",
   "source": [
    "transform = transforms.ToTensor()\n",
    "\n",
    "train_dataset = datasets.MNIST(root='./data', train=True, download=True, transform=transform)\n",
    "test_dataset = datasets.MNIST(root='./data', train=False, download=True, transform=transform)\n",
    "\n",
    "print(len(train_dataset))\n"
   ],
   "metadata": {
    "collapsed": false,
    "ExecuteTime": {
     "end_time": "2025-05-21T07:09:20.849069Z",
     "start_time": "2025-05-21T07:09:20.777441Z"
    }
   },
   "outputs": [
    {
     "name": "stdout",
     "output_type": "stream",
     "text": [
      "60000\n"
     ]
    }
   ],
   "execution_count": 2
  },
  {
   "cell_type": "markdown",
   "source": [],
   "metadata": {
    "collapsed": false
   }
  },
  {
   "cell_type": "code",
   "source": [
    "train_loader = DataLoader(train_dataset, batch_size=64, shuffle=True)\n",
    "test_loader  = DataLoader(test_dataset, batch_size=64)"
   ],
   "metadata": {
    "collapsed": false,
    "ExecuteTime": {
     "end_time": "2025-05-21T07:09:21.269318Z",
     "start_time": "2025-05-21T07:09:21.264591Z"
    }
   },
   "outputs": [],
   "execution_count": 3
  },
  {
   "metadata": {
    "ExecuteTime": {
     "end_time": "2025-05-21T07:09:21.281788Z",
     "start_time": "2025-05-21T07:09:21.275557Z"
    }
   },
   "cell_type": "code",
   "source": [
    "def remove_random_patches(images, patch_size=7):\n",
    "    B, C, H, W = images.size()\n",
    "    mask = torch.ones_like(images)  # Create a mask of ones\n",
    "    targets = images.clone()\n",
    "    for i in range(B):\n",
    "        x = random.randint(0, H - patch_size)\n",
    "        y = random.randint(0, W - patch_size)\n",
    "        images[i, :, x:x+patch_size, y:y+patch_size] = 0.0  # Set patch to 0\n",
    "        mask[i, :, x:x+patch_size, y:y+patch_size] = 0  # Update mask to 0 for removed patch\n",
    "        targets[i, :, :, :] = images[i, :, :, :][mask == 1]\n",
    "\n",
    "    return images, mask, targets"
   ],
   "outputs": [],
   "execution_count": 4
  },
  {
   "metadata": {
    "ExecuteTime": {
     "end_time": "2025-05-21T07:09:21.339454Z",
     "start_time": "2025-05-21T07:09:21.331457Z"
    }
   },
   "cell_type": "code",
   "source": [
    "\n",
    "def remove_random_patches(images, patch_size=7):\n",
    "    B, C, H, W = images.size()\n",
    "    images = images.clone()\n",
    "    mask = torch.ones_like(images)\n",
    "    targets = torch.zeros(B, C, patch_size, patch_size)  # Hold the ground truth patches\n",
    "    patch_masks = torch.zeros(B, (H // patch_size) * (W // patch_size))  # For transformer token mask\n",
    "\n",
    "    for i in range(B):\n",
    "        # Choose top-left corner of patch\n",
    "        x = random.randint(0, H - patch_size)\n",
    "        y = random.randint(0, W - patch_size)\n",
    "\n",
    "        # Save the missing patch as target\n",
    "        targets[i] = images[i, :, x:x+patch_size, y:y+patch_size].clone()\n",
    "\n",
    "        # Zero out the patch in the image\n",
    "        images[i, :, x:x+patch_size, y:y+patch_size] = 0.0\n",
    "        mask[i, :, x:x+patch_size, y:y+patch_size] = 0\n",
    "\n",
    "        # Compute which patch index was masked (for transformer token mask)\n",
    "        px = x // patch_size\n",
    "        py = y // patch_size\n",
    "        patch_index = px * (W // patch_size) + py\n",
    "        patch_masks[i, patch_index] = 1  # 1 = masked\n",
    "\n",
    "\n",
    "    return images, mask, targets\n"
   ],
   "outputs": [],
   "execution_count": 5
  },
  {
   "metadata": {
    "ExecuteTime": {
     "end_time": "2025-05-21T07:09:21.874072Z",
     "start_time": "2025-05-21T07:09:21.356232Z"
    }
   },
   "cell_type": "code",
   "source": [
    "# remove patch and display\n",
    "import matplotlib.pyplot as plt\n",
    "def show_image(image):\n",
    "    image = image.squeeze().numpy()\n",
    "    plt.imshow(image, cmap='gray')\n",
    "    plt.axis('off')\n",
    "    plt.show()"
   ],
   "outputs": [],
   "execution_count": 6
  },
  {
   "metadata": {
    "ExecuteTime": {
     "end_time": "2025-05-21T07:09:21.902082Z",
     "start_time": "2025-05-21T07:09:21.887389Z"
    }
   },
   "cell_type": "code",
   "source": [
    "class SelfAttention(nn.Module):\n",
    "    def __init__(self, emb_size=256, heads=4, dropout=0.1):\n",
    "\n",
    "        super().__init__()\n",
    "        self.emb_size, self.heads = emb_size, heads\n",
    "        self.key = nn.Linear(emb_size, emb_size, bias=False)\n",
    "        self.query = nn.Linear(emb_size, emb_size, bias=False)\n",
    "        self.value = nn.Linear(emb_size, emb_size, bias=False)\n",
    "        self.unify_heads = nn.Linear(emb_size, emb_size)\n",
    "        self.dropout = nn.Dropout(dropout)\n",
    "\n",
    "    def forward(self, x):\n",
    "\n",
    "        B, T, C = x.size()\n",
    "        H = self.heads\n",
    "\n",
    "        q = self.query(x)\n",
    "        k = self.key(x)\n",
    "        v = self.value(x)\n",
    "\n",
    "        S = C // H\n",
    "\n",
    "        k = k.view(B, T, H, S)\n",
    "        q = q.view(B, T, H, S)\n",
    "        v = v.view(B, T, H, S)\n",
    "\n",
    "        k = k.transpose(1, 2).contiguous().view(B * H, T, S)\n",
    "        q = q.transpose(1, 2).contiguous().view(B * H, T, S)\n",
    "        v = v.transpose(1, 2).contiguous().view(B * H, T, S)\n",
    "\n",
    "        dot = torch.bmm(q, k.transpose(1, 2)) # B * H, T, S) @ (B * H, S, T) -> (B * H, T, T)\n",
    "\n",
    "        dot = dot / math.sqrt(S)\n",
    "\n",
    "        # mask = torch.triu(torch.ones(T, T, device=x.device), diagonal=1)\n",
    "        # dot = dot.masked_fill(mask == 1, float('-inf'))\n",
    "\n",
    "        dot = F.softmax(dot, dim=2)\n",
    "\n",
    "        dot = self.dropout(dot)\n",
    "        out = torch.bmm(dot, v).view(B, H, T, S)\n",
    "\n",
    "        out = out.transpose(1, 2).contiguous().view(B, T, S * H) # (B, H, T, S) -> (B, T, S * H) -> (B, T, C)\n",
    "\n",
    "        out = self.unify_heads(out)\n",
    "\n",
    "        return out\n",
    "\n",
    "class TransformerBlock(nn.Module):\n",
    "  def __init__(self, emb_size, heads, dropout=0.1):\n",
    "    super().__init__()\n",
    "\n",
    "    self.attention = SelfAttention(emb_size, heads)\n",
    "    self.norm1 = nn.LayerNorm(emb_size)\n",
    "    self.norm2 = nn.LayerNorm(emb_size)\n",
    "\n",
    "    self.ff = nn.Sequential(\n",
    "      nn.Linear(emb_size, 4 * emb_size),\n",
    "      nn.ReLU(),\n",
    "      nn.Linear(4 * emb_size, emb_size),\n",
    "      nn.Dropout(dropout))\n",
    "\n",
    "  def forward(self, x):\n",
    "    x = x + self.attention(self.norm1(x))\n",
    "    x = x + self.ff(self.norm2(x))\n",
    "    return x\n",
    "\n",
    "class Transformer(nn.Module):\n",
    "    def __init__(self, img_size=28, patch_size=7, in_channels=1, emb_size=64, heads=4, num_layers=6, dropout=0.1):\n",
    "        super().__init__()\n",
    "        assert emb_size % heads == 0\n",
    "        self.emb_size = emb_size\n",
    "        self.patch_size = patch_size\n",
    "        self.heads = heads\n",
    "        grid_size = img_size // patch_size  # 4\n",
    "\n",
    "        # Embeddings\n",
    "        self.num_patches = (img_size // patch_size) ** 2\n",
    "        self.proj = nn.Conv2d(in_channels, emb_size, kernel_size=patch_size, stride=patch_size)\n",
    "        pos_x = torch.arange(grid_size).repeat(grid_size, 1)      # shape: (4, 4)\n",
    "        pos_y = torch.arange(grid_size).view(grid_size, 1).repeat(1, grid_size)  # shape: (4, 4)\n",
    "        coords = torch.stack([pos_x, pos_y], dim=-1).float()  # shape: (4, 4, 2)\n",
    "        coords = coords.view(-1, 2)  # shape: (16, 2)\n",
    "        self.coords = coords / (grid_size - 1)  # normalize to [0, 1]\n",
    "        self.coord_embed = nn.Linear(2, emb_size)  # emb_size matches patch embedding size\n",
    "\n",
    "\n",
    "\n",
    "\n",
    "        self.emb_dropout = nn.Dropout(dropout)\n",
    "        self.pos_dropout = nn.Dropout(dropout)\n",
    "        self.final_dropout = nn.Dropout(dropout)\n",
    "\n",
    "        self.transformer_blocks = nn.ModuleList(\n",
    "            [TransformerBlock(emb_size, heads, dropout=dropout) for _ in range(num_layers)]\n",
    "        )\n",
    "        self.reconstruct= nn.ConvTranspose2d(emb_size, in_channels, kernel_size=patch_size, stride=patch_size)\n",
    "        #self.ff = nn.Linear(emb_size, 10)\n",
    "        self.ff = nn.Linear(emb_size*grid_size*grid_size, img_size * img_size * in_channels)\n",
    "\n",
    "\n",
    "\n",
    "    def forward(self, x, mask=None):\n",
    "        B, C, H, W = x.size()\n",
    "        x = self.proj(x)\n",
    "        x = x.flatten(2)\n",
    "        x = x.transpose(1, 2)\n",
    "        x = self.emb_dropout(x)\n",
    "\n",
    "        pos = self.coord_embed(self.coords.to(x.device))  # (N, emb_size)\n",
    "        x = x + pos\n",
    "\n",
    "        for transformer in self.transformer_blocks:\n",
    "            x = transformer(x)\n",
    "        B, N, E = x.shape\n",
    "        x_full = self.ff(x.reshape(B, N*E)).view(B,C,H,W)   # (B, N, patch_size*patch_size*in_channels)\n",
    "        x_full = F.sigmoid(x_full)\n",
    "        if mask is not None:\n",
    "            x_patch = x_full[mask == 0].contiguous().view(B, C, self.patch_size, self.patch_size)\n",
    "\n",
    "\n",
    "            x_full = x_full.masked_fill(mask == 1, 0)\n",
    "        return x_full, x_patch"
   ],
   "outputs": [],
   "execution_count": 7
  },
  {
   "cell_type": "code",
   "source": "model = Transformer()",
   "metadata": {
    "collapsed": false,
    "ExecuteTime": {
     "end_time": "2025-05-21T07:09:21.930471Z",
     "start_time": "2025-05-21T07:09:21.912109Z"
    }
   },
   "outputs": [],
   "execution_count": 8
  },
  {
   "cell_type": "code",
   "source": [
    "criterion = nn.MSELoss()\n",
    "optimizer = torch.optim.Adam(model.parameters(), lr=0.001)\n",
    "model = model.to('cuda')"
   ],
   "metadata": {
    "collapsed": false,
    "ExecuteTime": {
     "end_time": "2025-05-21T07:09:22.077988Z",
     "start_time": "2025-05-21T07:09:21.936980Z"
    }
   },
   "outputs": [],
   "execution_count": 9
  },
  {
   "cell_type": "code",
   "source": [
    "def accuracy(y_pred, y):\n",
    "    _, predicted = torch.max(y_pred, 1)\n",
    "    correct = (predicted == y).sum().item()\n",
    "    return correct / y.size(0)"
   ],
   "metadata": {
    "collapsed": false,
    "ExecuteTime": {
     "end_time": "2025-05-21T07:09:22.088400Z",
     "start_time": "2025-05-21T07:09:22.084046Z"
    }
   },
   "outputs": [],
   "execution_count": 10
  },
  {
   "metadata": {
    "ExecuteTime": {
     "end_time": "2025-05-21T07:13:50.300152Z",
     "start_time": "2025-05-21T07:09:22.095399Z"
    }
   },
   "cell_type": "code",
   "source": [
    "for epoch in range(100):  # Keep it small for testing\n",
    "    model.train()\n",
    "    total_loss = 0\n",
    "    for imgs, _ in train_loader:\n",
    "        imgs, mask, target = remove_random_patches(imgs)  # Get images and mask\n",
    "        imgs, mask, target = imgs.to('cuda'), mask.to('cuda'), target.to('cuda')\n",
    "        _, logits = model(imgs, mask=mask)  # Reconstructed images\n",
    "        loss = criterion(logits, target)\n",
    "\n",
    "        optimizer.zero_grad()\n",
    "        loss.backward()\n",
    "        optimizer.step()\n",
    "\n",
    "        total_loss += loss.item()\n",
    "        if loss < 0.0005:\n",
    "            break\n",
    "\n",
    "    print(f\"Epoch {epoch+1}, Loss: {total_loss / len(train_loader):.4f}\")\n",
    "    # print(\"Train accuracy:\", accuracy(logits, labels))"
   ],
   "outputs": [
    {
     "name": "stdout",
     "output_type": "stream",
     "text": [
      "Epoch 1, Loss: 0.0695\n",
      "Epoch 2, Loss: 0.0553\n",
      "Epoch 3, Loss: 0.0514\n",
      "Epoch 4, Loss: 0.0491\n",
      "Epoch 5, Loss: 0.0478\n",
      "Epoch 6, Loss: 0.0467\n",
      "Epoch 7, Loss: 0.0455\n",
      "Epoch 8, Loss: 0.0444\n"
     ]
    },
    {
     "ename": "KeyboardInterrupt",
     "evalue": "",
     "output_type": "error",
     "traceback": [
      "\u001B[31m---------------------------------------------------------------------------\u001B[39m",
      "\u001B[31mKeyboardInterrupt\u001B[39m                         Traceback (most recent call last)",
      "\u001B[36mCell\u001B[39m\u001B[36m \u001B[39m\u001B[32mIn[11]\u001B[39m\u001B[32m, line 11\u001B[39m\n\u001B[32m      8\u001B[39m loss = criterion(logits, target)\n\u001B[32m     10\u001B[39m optimizer.zero_grad()\n\u001B[32m---> \u001B[39m\u001B[32m11\u001B[39m \u001B[43mloss\u001B[49m\u001B[43m.\u001B[49m\u001B[43mbackward\u001B[49m\u001B[43m(\u001B[49m\u001B[43m)\u001B[49m\n\u001B[32m     12\u001B[39m optimizer.step()\n\u001B[32m     14\u001B[39m total_loss += loss.item()\n",
      "\u001B[36mFile \u001B[39m\u001B[32m~\\anaconda3\\envs\\pytorch\\Lib\\site-packages\\torch\\_tensor.py:626\u001B[39m, in \u001B[36mTensor.backward\u001B[39m\u001B[34m(self, gradient, retain_graph, create_graph, inputs)\u001B[39m\n\u001B[32m    616\u001B[39m \u001B[38;5;28;01mif\u001B[39;00m has_torch_function_unary(\u001B[38;5;28mself\u001B[39m):\n\u001B[32m    617\u001B[39m     \u001B[38;5;28;01mreturn\u001B[39;00m handle_torch_function(\n\u001B[32m    618\u001B[39m         Tensor.backward,\n\u001B[32m    619\u001B[39m         (\u001B[38;5;28mself\u001B[39m,),\n\u001B[32m   (...)\u001B[39m\u001B[32m    624\u001B[39m         inputs=inputs,\n\u001B[32m    625\u001B[39m     )\n\u001B[32m--> \u001B[39m\u001B[32m626\u001B[39m \u001B[43mtorch\u001B[49m\u001B[43m.\u001B[49m\u001B[43mautograd\u001B[49m\u001B[43m.\u001B[49m\u001B[43mbackward\u001B[49m\u001B[43m(\u001B[49m\n\u001B[32m    627\u001B[39m \u001B[43m    \u001B[49m\u001B[38;5;28;43mself\u001B[39;49m\u001B[43m,\u001B[49m\u001B[43m \u001B[49m\u001B[43mgradient\u001B[49m\u001B[43m,\u001B[49m\u001B[43m \u001B[49m\u001B[43mretain_graph\u001B[49m\u001B[43m,\u001B[49m\u001B[43m \u001B[49m\u001B[43mcreate_graph\u001B[49m\u001B[43m,\u001B[49m\u001B[43m \u001B[49m\u001B[43minputs\u001B[49m\u001B[43m=\u001B[49m\u001B[43minputs\u001B[49m\n\u001B[32m    628\u001B[39m \u001B[43m\u001B[49m\u001B[43m)\u001B[49m\n",
      "\u001B[36mFile \u001B[39m\u001B[32m~\\anaconda3\\envs\\pytorch\\Lib\\site-packages\\torch\\autograd\\__init__.py:347\u001B[39m, in \u001B[36mbackward\u001B[39m\u001B[34m(tensors, grad_tensors, retain_graph, create_graph, grad_variables, inputs)\u001B[39m\n\u001B[32m    342\u001B[39m     retain_graph = create_graph\n\u001B[32m    344\u001B[39m \u001B[38;5;66;03m# The reason we repeat the same comment below is that\u001B[39;00m\n\u001B[32m    345\u001B[39m \u001B[38;5;66;03m# some Python versions print out the first line of a multi-line function\u001B[39;00m\n\u001B[32m    346\u001B[39m \u001B[38;5;66;03m# calls in the traceback and some print out the last line\u001B[39;00m\n\u001B[32m--> \u001B[39m\u001B[32m347\u001B[39m \u001B[43m_engine_run_backward\u001B[49m\u001B[43m(\u001B[49m\n\u001B[32m    348\u001B[39m \u001B[43m    \u001B[49m\u001B[43mtensors\u001B[49m\u001B[43m,\u001B[49m\n\u001B[32m    349\u001B[39m \u001B[43m    \u001B[49m\u001B[43mgrad_tensors_\u001B[49m\u001B[43m,\u001B[49m\n\u001B[32m    350\u001B[39m \u001B[43m    \u001B[49m\u001B[43mretain_graph\u001B[49m\u001B[43m,\u001B[49m\n\u001B[32m    351\u001B[39m \u001B[43m    \u001B[49m\u001B[43mcreate_graph\u001B[49m\u001B[43m,\u001B[49m\n\u001B[32m    352\u001B[39m \u001B[43m    \u001B[49m\u001B[43minputs\u001B[49m\u001B[43m,\u001B[49m\n\u001B[32m    353\u001B[39m \u001B[43m    \u001B[49m\u001B[43mallow_unreachable\u001B[49m\u001B[43m=\u001B[49m\u001B[38;5;28;43;01mTrue\u001B[39;49;00m\u001B[43m,\u001B[49m\n\u001B[32m    354\u001B[39m \u001B[43m    \u001B[49m\u001B[43maccumulate_grad\u001B[49m\u001B[43m=\u001B[49m\u001B[38;5;28;43;01mTrue\u001B[39;49;00m\u001B[43m,\u001B[49m\n\u001B[32m    355\u001B[39m \u001B[43m\u001B[49m\u001B[43m)\u001B[49m\n",
      "\u001B[36mFile \u001B[39m\u001B[32m~\\anaconda3\\envs\\pytorch\\Lib\\site-packages\\torch\\autograd\\graph.py:823\u001B[39m, in \u001B[36m_engine_run_backward\u001B[39m\u001B[34m(t_outputs, *args, **kwargs)\u001B[39m\n\u001B[32m    821\u001B[39m     unregister_hooks = _register_logging_hooks_on_whole_graph(t_outputs)\n\u001B[32m    822\u001B[39m \u001B[38;5;28;01mtry\u001B[39;00m:\n\u001B[32m--> \u001B[39m\u001B[32m823\u001B[39m     \u001B[38;5;28;01mreturn\u001B[39;00m \u001B[43mVariable\u001B[49m\u001B[43m.\u001B[49m\u001B[43m_execution_engine\u001B[49m\u001B[43m.\u001B[49m\u001B[43mrun_backward\u001B[49m\u001B[43m(\u001B[49m\u001B[43m  \u001B[49m\u001B[38;5;66;43;03m# Calls into the C++ engine to run the backward pass\u001B[39;49;00m\n\u001B[32m    824\u001B[39m \u001B[43m        \u001B[49m\u001B[43mt_outputs\u001B[49m\u001B[43m,\u001B[49m\u001B[43m \u001B[49m\u001B[43m*\u001B[49m\u001B[43margs\u001B[49m\u001B[43m,\u001B[49m\u001B[43m \u001B[49m\u001B[43m*\u001B[49m\u001B[43m*\u001B[49m\u001B[43mkwargs\u001B[49m\n\u001B[32m    825\u001B[39m \u001B[43m    \u001B[49m\u001B[43m)\u001B[49m  \u001B[38;5;66;03m# Calls into the C++ engine to run the backward pass\u001B[39;00m\n\u001B[32m    826\u001B[39m \u001B[38;5;28;01mfinally\u001B[39;00m:\n\u001B[32m    827\u001B[39m     \u001B[38;5;28;01mif\u001B[39;00m attach_logging_hooks:\n",
      "\u001B[31mKeyboardInterrupt\u001B[39m: "
     ]
    }
   ],
   "execution_count": 11
  },
  {
   "metadata": {
    "ExecuteTime": {
     "end_time": "2025-05-21T07:14:05.519577Z",
     "start_time": "2025-05-21T07:14:05.098233Z"
    }
   },
   "cell_type": "code",
   "source": [
    "for imgs, labels in train_loader:\n",
    "    imgs, mask, target = remove_random_patches(imgs)\n",
    "    break\n",
    "\n",
    "for i in range(5):\n",
    "    print('Image:', i)\n",
    "    #show_image(imgs[i] + target[i])\n",
    "    show_image(imgs[i])\n",
    "    #show_image(target[i])\n",
    "    output = model(imgs[i].unsqueeze(0).to('cuda'), mask=mask[i].unsqueeze(0).to('cuda'))\n",
    "    show_image(imgs[i].unsqueeze(0).detach().cpu() + output[0].detach().cpu())\n",
    "\n"
   ],
   "outputs": [
    {
     "name": "stdout",
     "output_type": "stream",
     "text": [
      "Image: 0\n"
     ]
    },
    {
     "data": {
      "text/plain": [
       "<Figure size 640x480 with 1 Axes>"
      ],
      "image/png": "[encoded data removed]"
     },
     "metadata": {},
     "output_type": "display_data"
    },
    {
     "data": {
      "text/plain": [
       "<Figure size 640x480 with 1 Axes>"
      ],
      "image/png": "[encoded data removed]"
     },
     "metadata": {},
     "output_type": "display_data"
    },
    {
     "name": "stdout",
     "output_type": "stream",
     "text": [
      "Image: 1\n"
     ]
    },
    {
     "data": {
      "text/plain": [
       "<Figure size 640x480 with 1 Axes>"
      ],
      "image/png": "[encoded data removed]"
     },
     "metadata": {},
     "output_type": "display_data"
    },
    {
     "data": {
      "text/plain": [
       "<Figure size 640x480 with 1 Axes>"
      ],
      "image/png": "[encoded data removed]"
     },
     "metadata": {},
     "output_type": "display_data"
    },
    {
     "name": "stdout",
     "output_type": "stream",
     "text": [
      "Image: 2\n"
     ]
    },
    {
     "data": {
      "text/plain": [
       "<Figure size 640x480 with 1 Axes>"
      ],
      "image/png": "[encoded data removed]"
     },
     "metadata": {},
     "output_type": "display_data"
    },
    {
     "data": {
      "text/plain": [
       "<Figure size 640x480 with 1 Axes>"
      ],
      "image/png": "[encoded data removed]"
     },
     "metadata": {},
     "output_type": "display_data"
    },
    {
     "name": "stdout",
     "output_type": "stream",
     "text": [
      "Image: 3\n"
     ]
    },
    {
     "data": {
      "text/plain": [
       "<Figure size 640x480 with 1 Axes>"
      ],
      "image/png": "[encoded data removed]"
     },
     "metadata": {},
     "output_type": "display_data"
    },
    {
     "data": {
      "text/plain": [
       "<Figure size 640x480 with 1 Axes>"
      ],
      "image/png": "[encoded data removed]"
     },
     "metadata": {},
     "output_type": "display_data"
    },
    {
     "name": "stdout",
     "output_type": "stream",
     "text": [
      "Image: 4\n"
     ]
    },
    {
     "data": {
      "text/plain": [
       "<Figure size 640x480 with 1 Axes>"
      ],
      "image/png": "[encoded data removed]"
     },
     "metadata": {},
     "output_type": "display_data"
    },
    {
     "data": {
      "text/plain": [
       "<Figure size 640x480 with 1 Axes>"
      ],
      "image/png": "[encoded data removed]"
     },
     "metadata": {},
     "output_type": "display_data"
    }
   ],
   "execution_count": 13
  }
 ],
 "metadata": {
  "kernelspec": {
   "display_name": "Python 3",
   "language": "python",
   "name": "python3"
  },
  "language_info": {
   "codemirror_mode": {
    "name": "ipython",
    "version": 2
   },
   "file_extension": ".py",
   "mimetype": "text/x-python",
   "name": "python",
   "nbconvert_exporter": "python",
   "pygments_lexer": "ipython2",
   "version": "2.7.6"
  }
 },
 "nbformat": 4,
 "nbformat_minor": 0
}
